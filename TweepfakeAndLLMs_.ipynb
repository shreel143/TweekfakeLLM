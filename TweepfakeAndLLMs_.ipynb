{
  "nbformat": 4,
  "nbformat_minor": 0,
  "metadata": {
    "colab": {
      "provenance": [],
      "authorship_tag": "ABX9TyP+k7xccRge5YvN+WzMeium",
      "include_colab_link": true
    },
    "kernelspec": {
      "name": "python3",
      "display_name": "Python 3"
    },
    "language_info": {
      "name": "python"
    }
  },
  "cells": [
    {
      "cell_type": "markdown",
      "metadata": {
        "id": "view-in-github",
        "colab_type": "text"
      },
      "source": [
        "<a href=\"https://colab.research.google.com/github/shreel143/TweekfakeLLM/blob/main/TweepfakeAndLLMs_.ipynb\" target=\"_parent\"><img src=\"https://colab.research.google.com/assets/colab-badge.svg\" alt=\"Open In Colab\"/></a>"
      ]
    },
    {
      "cell_type": "markdown",
      "source": [
        "## Importing dataset from Kaggle"
      ],
      "metadata": {
        "id": "JL6c5I9_JYEI"
      }
    },
    {
      "cell_type": "code",
      "execution_count": null,
      "metadata": {
        "id": "TWQk74P0JOuz"
      },
      "outputs": [],
      "source": [
        "from google.colab import files\n",
        "files.upload()"
      ]
    },
    {
      "cell_type": "code",
      "source": [
        "!pip install kaggle\n",
        "!mkdir -p ~/.kaggle\n",
        "!cp kaggle.json ~/.kaggle/\n",
        "!chmod 600 ~/.kaggle/kaggle.json"
      ],
      "metadata": {
        "colab": {
          "base_uri": "https://localhost:8080/"
        },
        "id": "9PVg_GhNJkhr",
        "outputId": "be038d30-40dc-4c57-98cd-ac21032f9915"
      },
      "execution_count": 2,
      "outputs": [
        {
          "output_type": "stream",
          "name": "stdout",
          "text": [
            "Requirement already satisfied: kaggle in /usr/local/lib/python3.10/dist-packages (1.5.16)\n",
            "Requirement already satisfied: six>=1.10 in /usr/local/lib/python3.10/dist-packages (from kaggle) (1.16.0)\n",
            "Requirement already satisfied: certifi in /usr/local/lib/python3.10/dist-packages (from kaggle) (2024.2.2)\n",
            "Requirement already satisfied: python-dateutil in /usr/local/lib/python3.10/dist-packages (from kaggle) (2.8.2)\n",
            "Requirement already satisfied: requests in /usr/local/lib/python3.10/dist-packages (from kaggle) (2.31.0)\n",
            "Requirement already satisfied: tqdm in /usr/local/lib/python3.10/dist-packages (from kaggle) (4.66.2)\n",
            "Requirement already satisfied: python-slugify in /usr/local/lib/python3.10/dist-packages (from kaggle) (8.0.4)\n",
            "Requirement already satisfied: urllib3 in /usr/local/lib/python3.10/dist-packages (from kaggle) (2.0.7)\n",
            "Requirement already satisfied: bleach in /usr/local/lib/python3.10/dist-packages (from kaggle) (6.1.0)\n",
            "Requirement already satisfied: webencodings in /usr/local/lib/python3.10/dist-packages (from bleach->kaggle) (0.5.1)\n",
            "Requirement already satisfied: text-unidecode>=1.3 in /usr/local/lib/python3.10/dist-packages (from python-slugify->kaggle) (1.3)\n",
            "Requirement already satisfied: charset-normalizer<4,>=2 in /usr/local/lib/python3.10/dist-packages (from requests->kaggle) (3.3.2)\n",
            "Requirement already satisfied: idna<4,>=2.5 in /usr/local/lib/python3.10/dist-packages (from requests->kaggle) (3.6)\n"
          ]
        }
      ]
    },
    {
      "cell_type": "code",
      "source": [
        "!kaggle datasets download -d mtesconi/twitter-deep-fake-text"
      ],
      "metadata": {
        "colab": {
          "base_uri": "https://localhost:8080/"
        },
        "id": "fv2cTLLuKC0d",
        "outputId": "2ba6b55c-0b93-4316-83b1-1e4d26646b95"
      },
      "execution_count": 7,
      "outputs": [
        {
          "output_type": "stream",
          "name": "stdout",
          "text": [
            "Downloading twitter-deep-fake-text.zip to /content\n",
            "\r  0% 0.00/345k [00:00<?, ?B/s]\n",
            "\r100% 345k/345k [00:00<00:00, 77.1MB/s]\n"
          ]
        }
      ]
    },
    {
      "cell_type": "code",
      "source": [
        "!unzip twitter-deep-fake-text.zip"
      ],
      "metadata": {
        "colab": {
          "base_uri": "https://localhost:8080/"
        },
        "id": "dHhjtXWVKVgD",
        "outputId": "0a0bac7a-cf60-4012-8ef1-a795cdd7b6a4"
      },
      "execution_count": 8,
      "outputs": [
        {
          "output_type": "stream",
          "name": "stdout",
          "text": [
            "Archive:  twitter-deep-fake-text.zip\n",
            "  inflating: test.csv                \n",
            "  inflating: train.csv               \n",
            "  inflating: validation.csv          \n"
          ]
        }
      ]
    },
    {
      "cell_type": "markdown",
      "source": [
        "## Data Pre-Processing:\n",
        "\n",
        "\n"
      ],
      "metadata": {
        "id": "_uushIKeMfnG"
      }
    },
    {
      "cell_type": "code",
      "source": [
        "import pandas as pd"
      ],
      "metadata": {
        "id": "QpeErblQKmvx"
      },
      "execution_count": 9,
      "outputs": []
    },
    {
      "cell_type": "code",
      "source": [
        "# Load datasets\n",
        "train_df = pd.read_csv('train.csv')\n",
        "test_df = pd.read_csv('test.csv')\n",
        "validation_df = pd.read_csv('validation.csv')"
      ],
      "metadata": {
        "id": "unie_o6NKwRI"
      },
      "execution_count": 10,
      "outputs": []
    },
    {
      "cell_type": "code",
      "source": [
        "# concatenate the datasets into a single DataFrame\n",
        "combined_df = pd.concat([train_df, test_df, validation_df]).reset_index(drop=True)"
      ],
      "metadata": {
        "id": "1sMfjx1mK1Eg"
      },
      "execution_count": 13,
      "outputs": []
    },
    {
      "cell_type": "code",
      "source": [
        "print(\"CONCATENATED DATASET INFO:\")\n",
        "print(combined_df.info())"
      ],
      "metadata": {
        "colab": {
          "base_uri": "https://localhost:8080/"
        },
        "id": "lPEwaWjjK3kM",
        "outputId": "a6402e54-114d-4d3a-d8d8-88fea6d50323"
      },
      "execution_count": 21,
      "outputs": [
        {
          "output_type": "stream",
          "name": "stdout",
          "text": [
            "CONCATENATED DATASET INFO:\n",
            "<class 'pandas.core.frame.DataFrame'>\n",
            "RangeIndex: 25572 entries, 0 to 25571\n",
            "Data columns (total 5 columns):\n",
            " #   Column        Non-Null Count  Dtype \n",
            "---  ------        --------------  ----- \n",
            " 0   user_id       25572 non-null  object\n",
            " 1   status_id     25572 non-null  object\n",
            " 2   screen_name   25572 non-null  object\n",
            " 3   account.type  25572 non-null  object\n",
            " 4   class_type    25572 non-null  object\n",
            "dtypes: object(5)\n",
            "memory usage: 999.0+ KB\n",
            "None\n"
          ]
        }
      ]
    },
    {
      "cell_type": "code",
      "source": [
        "print(combined_df)"
      ],
      "metadata": {
        "colab": {
          "base_uri": "https://localhost:8080/"
        },
        "id": "kDyv4wZtK5W0",
        "outputId": "c59a53de-dd83-494c-dc2c-2e2e7e568f4c"
      },
      "execution_count": 15,
      "outputs": [
        {
          "output_type": "stream",
          "name": "stdout",
          "text": [
            "                   user_id            status_id screen_name account.type  \\\n",
            "0      1110407881030017024  1208265880146046976       bot#9          bot   \n",
            "1               3171109449  1091463908118941696    human#17        human   \n",
            "2      1110686081341632512  1199055191028293633      bot#23          bot   \n",
            "3      1110307772783124480  1214698264701722626       bot#1          bot   \n",
            "4       979586167405363200  1209229478934695937      bot#11          bot   \n",
            "...                    ...                  ...         ...          ...   \n",
            "25567   705113652471439361   714523361305608192      bot#16          bot   \n",
            "25568            262794965   935057601103933441     human#8        human   \n",
            "25569            343587159  1158520796039405569     human#1        human   \n",
            "25570  1110407881030017024  1210364706457677824       bot#9          bot   \n",
            "25571  1213988022728810496  1219363974657052675       bot#8          bot   \n",
            "\n",
            "      class_type  \n",
            "0         others  \n",
            "1          human  \n",
            "2         others  \n",
            "3         others  \n",
            "4            rnn  \n",
            "...          ...  \n",
            "25567        rnn  \n",
            "25568      human  \n",
            "25569      human  \n",
            "25570     others  \n",
            "25571       gpt2  \n",
            "\n",
            "[25572 rows x 5 columns]\n"
          ]
        }
      ]
    },
    {
      "cell_type": "code",
      "source": [
        "# Filter for AI-generated texts\n",
        "ai_texts = combined_df[combined_df['account.type'] == 'bot'].sample(n=1000, random_state=1)\n",
        "\n",
        "# Filter for human-generated texts\n",
        "human_texts = combined_df[combined_df['account.type'] == 'human'].sample(n=1000, random_state=1)\n",
        "\n",
        "# Combine the filtered subsets\n",
        "filtered_df = pd.concat([ai_texts, human_texts]).reset_index(drop=True)"
      ],
      "metadata": {
        "id": "1g-VEzGVLUOc"
      },
      "execution_count": 16,
      "outputs": []
    },
    {
      "cell_type": "code",
      "source": [
        "print(\"FILTERED DATASET INFO:\")\n",
        "print(filtered_df.info())\n",
        "print(filtered_df)"
      ],
      "metadata": {
        "colab": {
          "base_uri": "https://localhost:8080/"
        },
        "id": "o_XMMch5LbqO",
        "outputId": "be212190-a155-4031-b60a-136f3e33cc8d"
      },
      "execution_count": 18,
      "outputs": [
        {
          "output_type": "stream",
          "name": "stdout",
          "text": [
            "FILTERED DATASET INFO:\n",
            "<class 'pandas.core.frame.DataFrame'>\n",
            "RangeIndex: 2000 entries, 0 to 1999\n",
            "Data columns (total 5 columns):\n",
            " #   Column        Non-Null Count  Dtype \n",
            "---  ------        --------------  ----- \n",
            " 0   user_id       2000 non-null   object\n",
            " 1   status_id     2000 non-null   object\n",
            " 2   screen_name   2000 non-null   object\n",
            " 3   account.type  2000 non-null   object\n",
            " 4   class_type    2000 non-null   object\n",
            "dtypes: object(5)\n",
            "memory usage: 78.2+ KB\n",
            "None\n",
            "                  user_id            status_id screen_name account.type  \\\n",
            "0      979586167405363200  1183560338110681088      bot#11          bot   \n",
            "1     1174980053668524033  1205648849483845632       bot#4          bot   \n",
            "2      901463089622781952   942333693074464770      bot#10          bot   \n",
            "3      901463089622781952  1070175417405853696      bot#10          bot   \n",
            "4      979586167405363200  1141462951041220608      bot#11          bot   \n",
            "...                   ...                  ...         ...          ...   \n",
            "1995           3171109449  1037895376819372034    human#17        human   \n",
            "1996   721352073925627907  1212463519922151425     human#7        human   \n",
            "1997            343587159  1155018440727339009     human#1        human   \n",
            "1998   721352073925627907  1271835676154253313     human#7        human   \n",
            "1999             25073877  1206335971974959107    human#13        human   \n",
            "\n",
            "     class_type  \n",
            "0           rnn  \n",
            "1          gpt2  \n",
            "2        others  \n",
            "3        others  \n",
            "4           rnn  \n",
            "...         ...  \n",
            "1995      human  \n",
            "1996      human  \n",
            "1997      human  \n",
            "1998      human  \n",
            "1999      human  \n",
            "\n",
            "[2000 rows x 5 columns]\n"
          ]
        }
      ]
    },
    {
      "cell_type": "code",
      "source": [
        "# Converting the filtered dataset into csv file\n",
        "filtered_df.to_csv('filtered_dataset.csv', index=False)"
      ],
      "metadata": {
        "id": "ZVDKMh4yLn8W"
      },
      "execution_count": 19,
      "outputs": []
    },
    {
      "cell_type": "code",
      "source": [
        "# Downloading the filtered dataset containing 1k enteries of each type\n",
        "from google.colab import files\n",
        "files.download('filtered_dataset.csv')"
      ],
      "metadata": {
        "colab": {
          "base_uri": "https://localhost:8080/",
          "height": 17
        },
        "id": "v_s2mIPOL8Ew",
        "outputId": "ddf93f7e-eb3e-437a-f1a9-49fef43f6105"
      },
      "execution_count": 20,
      "outputs": [
        {
          "output_type": "display_data",
          "data": {
            "text/plain": [
              "<IPython.core.display.Javascript object>"
            ],
            "application/javascript": [
              "\n",
              "    async function download(id, filename, size) {\n",
              "      if (!google.colab.kernel.accessAllowed) {\n",
              "        return;\n",
              "      }\n",
              "      const div = document.createElement('div');\n",
              "      const label = document.createElement('label');\n",
              "      label.textContent = `Downloading \"${filename}\": `;\n",
              "      div.appendChild(label);\n",
              "      const progress = document.createElement('progress');\n",
              "      progress.max = size;\n",
              "      div.appendChild(progress);\n",
              "      document.body.appendChild(div);\n",
              "\n",
              "      const buffers = [];\n",
              "      let downloaded = 0;\n",
              "\n",
              "      const channel = await google.colab.kernel.comms.open(id);\n",
              "      // Send a message to notify the kernel that we're ready.\n",
              "      channel.send({})\n",
              "\n",
              "      for await (const message of channel.messages) {\n",
              "        // Send a message to notify the kernel that we're ready.\n",
              "        channel.send({})\n",
              "        if (message.buffers) {\n",
              "          for (const buffer of message.buffers) {\n",
              "            buffers.push(buffer);\n",
              "            downloaded += buffer.byteLength;\n",
              "            progress.value = downloaded;\n",
              "          }\n",
              "        }\n",
              "      }\n",
              "      const blob = new Blob(buffers, {type: 'application/binary'});\n",
              "      const a = document.createElement('a');\n",
              "      a.href = window.URL.createObjectURL(blob);\n",
              "      a.download = filename;\n",
              "      div.appendChild(a);\n",
              "      a.click();\n",
              "      div.remove();\n",
              "    }\n",
              "  "
            ]
          },
          "metadata": {}
        },
        {
          "output_type": "display_data",
          "data": {
            "text/plain": [
              "<IPython.core.display.Javascript object>"
            ],
            "application/javascript": [
              "download(\"download_67b3777a-6271-4a0d-99e8-3bee1ab40035\", \"filtered_dataset.csv\", 106819)"
            ]
          },
          "metadata": {}
        }
      ]
    },
    {
      "cell_type": "markdown",
      "source": [
        "## Data Cleaning And Preperation:"
      ],
      "metadata": {
        "id": "H4wBAzkcMQ4O"
      }
    },
    {
      "cell_type": "code",
      "source": [
        "# Displaying unique values in the 'account.type' column\n",
        "unique_values = filtered_df['account.type'].unique()\n",
        "print(unique_values)"
      ],
      "metadata": {
        "colab": {
          "base_uri": "https://localhost:8080/"
        },
        "id": "CJ2E9H6yMMOs",
        "outputId": "85cd3264-6d20-4ae8-9c55-475423b2c6bd"
      },
      "execution_count": 22,
      "outputs": [
        {
          "output_type": "stream",
          "name": "stdout",
          "text": [
            "['bot' 'human']\n"
          ]
        }
      ]
    },
    {
      "cell_type": "code",
      "source": [
        "# Defining a mapping dictionary that covers all variations found in the unique values\n",
        "label_mapping = {\n",
        "    'human': 0,\n",
        "    'bot': 1,\n",
        "}"
      ],
      "metadata": {
        "id": "tJo5pZ8FNEYl"
      },
      "execution_count": 23,
      "outputs": []
    },
    {
      "cell_type": "code",
      "source": [
        "# Applying the mapping to the 'account.type' column\n",
        "filtered_df['account.type'] = filtered_df['account.type'].map(label_mapping)"
      ],
      "metadata": {
        "id": "42ljxjJ2NGUT"
      },
      "execution_count": 24,
      "outputs": []
    },
    {
      "cell_type": "code",
      "source": [
        "print(\"FILTERED DATASET INFO:\")\n",
        "print(filtered_df.info())\n",
        "print(filtered_df)"
      ],
      "metadata": {
        "colab": {
          "base_uri": "https://localhost:8080/"
        },
        "id": "i7gSmIQgNNYX",
        "outputId": "e7453f6d-90db-47aa-825b-9f0816940e48"
      },
      "execution_count": 33,
      "outputs": [
        {
          "output_type": "stream",
          "name": "stdout",
          "text": [
            "FILTERED DATASET INFO:\n",
            "<class 'pandas.core.frame.DataFrame'>\n",
            "RangeIndex: 2000 entries, 0 to 1999\n",
            "Data columns (total 5 columns):\n",
            " #   Column        Non-Null Count  Dtype \n",
            "---  ------        --------------  ----- \n",
            " 0   user_id       2000 non-null   object\n",
            " 1   status_id     2000 non-null   object\n",
            " 2   screen_name   2000 non-null   object\n",
            " 3   account.type  2000 non-null   int64 \n",
            " 4   class_type    2000 non-null   object\n",
            "dtypes: int64(1), object(4)\n",
            "memory usage: 78.2+ KB\n",
            "None\n",
            "                  user_id            status_id screen_name  account.type  \\\n",
            "0      979586167405363200  1183560338110681088      bot#11             1   \n",
            "1     1174980053668524033  1205648849483845632       bot#4             1   \n",
            "2      901463089622781952   942333693074464770      bot#10             1   \n",
            "3      901463089622781952  1070175417405853696      bot#10             1   \n",
            "4      979586167405363200  1141462951041220608      bot#11             1   \n",
            "...                   ...                  ...         ...           ...   \n",
            "1995           3171109449  1037895376819372034    human#17             0   \n",
            "1996   721352073925627907  1212463519922151425     human#7             0   \n",
            "1997            343587159  1155018440727339009     human#1             0   \n",
            "1998   721352073925627907  1271835676154253313     human#7             0   \n",
            "1999             25073877  1206335971974959107    human#13             0   \n",
            "\n",
            "     class_type  \n",
            "0           rnn  \n",
            "1          gpt2  \n",
            "2        others  \n",
            "3        others  \n",
            "4           rnn  \n",
            "...         ...  \n",
            "1995      human  \n",
            "1996      human  \n",
            "1997      human  \n",
            "1998      human  \n",
            "1999      human  \n",
            "\n",
            "[2000 rows x 5 columns]\n"
          ]
        }
      ]
    },
    {
      "cell_type": "code",
      "source": [
        "# Downloading this new filtered dataset with mapping\n",
        "filtered_df.to_csv('filtered_dataset.csv', index=False)\n",
        "\n"
      ],
      "metadata": {
        "id": "pe6tyGuONSrn"
      },
      "execution_count": 44,
      "outputs": []
    },
    {
      "cell_type": "code",
      "source": [
        "from google.colab import files\n",
        "files.download('filtered_dataset.csv')"
      ],
      "metadata": {
        "id": "Exlv9EwQPwxe"
      },
      "execution_count": null,
      "outputs": []
    },
    {
      "cell_type": "markdown",
      "source": [
        "## Splitting the dataset into train, test and validation"
      ],
      "metadata": {
        "id": "H8PngES8N27d"
      }
    },
    {
      "cell_type": "code",
      "source": [
        "# Splitting the data into train, validation, and test sets\n",
        "\n",
        "from sklearn.model_selection import train_test_split"
      ],
      "metadata": {
        "id": "GqwS6eXpNsbn"
      },
      "execution_count": 45,
      "outputs": []
    },
    {
      "cell_type": "code",
      "source": [
        "X = filtered_df.drop(columns=['account.type'])  # Features (input)\n",
        "y = filtered_df['account.type']  # Labels (output), already encoded as 0 and 1\n",
        "\n",
        "# Spliting data into training and remaining data (70% training, 30% for val and test)\n",
        "X_train, X_remaining, y_train, y_remaining = train_test_split(X, y, test_size=0.3, stratify=y, random_state=42)\n",
        "\n",
        "# Spliting remaining data into validation and test sets (50% each of remaining data)\n",
        "X_val, X_test, y_val, y_test = train_test_split(X_remaining, y_remaining, test_size=0.5, stratify=y_remaining, random_state=42)\n"
      ],
      "metadata": {
        "id": "dvM-pUYhN_fR"
      },
      "execution_count": 49,
      "outputs": []
    },
    {
      "cell_type": "code",
      "source": [
        "print(\"FEATURES INFO (X):\")\n",
        "print(X)\n",
        "print(X.info())"
      ],
      "metadata": {
        "colab": {
          "base_uri": "https://localhost:8080/"
        },
        "id": "SIxWl7jYOETp",
        "outputId": "b9decde7-3c9f-493a-f653-905aedcfac2a"
      },
      "execution_count": 50,
      "outputs": [
        {
          "output_type": "stream",
          "name": "stdout",
          "text": [
            "FEATURES INFO (X):\n",
            "                  user_id            status_id screen_name class_type\n",
            "0      979586167405363200  1183560338110681088      bot#11        rnn\n",
            "1     1174980053668524033  1205648849483845632       bot#4       gpt2\n",
            "2      901463089622781952   942333693074464770      bot#10     others\n",
            "3      901463089622781952  1070175417405853696      bot#10     others\n",
            "4      979586167405363200  1141462951041220608      bot#11        rnn\n",
            "...                   ...                  ...         ...        ...\n",
            "1995           3171109449  1037895376819372034    human#17      human\n",
            "1996   721352073925627907  1212463519922151425     human#7      human\n",
            "1997            343587159  1155018440727339009     human#1      human\n",
            "1998   721352073925627907  1271835676154253313     human#7      human\n",
            "1999             25073877  1206335971974959107    human#13      human\n",
            "\n",
            "[2000 rows x 4 columns]\n",
            "<class 'pandas.core.frame.DataFrame'>\n",
            "RangeIndex: 2000 entries, 0 to 1999\n",
            "Data columns (total 4 columns):\n",
            " #   Column       Non-Null Count  Dtype \n",
            "---  ------       --------------  ----- \n",
            " 0   user_id      2000 non-null   object\n",
            " 1   status_id    2000 non-null   object\n",
            " 2   screen_name  2000 non-null   object\n",
            " 3   class_type   2000 non-null   object\n",
            "dtypes: object(4)\n",
            "memory usage: 62.6+ KB\n",
            "None\n"
          ]
        }
      ]
    },
    {
      "cell_type": "code",
      "source": [
        "print(\"LABELS INFO (y):\")\n",
        "print(y)\n",
        "print(y.info())"
      ],
      "metadata": {
        "colab": {
          "base_uri": "https://localhost:8080/"
        },
        "id": "BzKTaTgUOZCH",
        "outputId": "7548cbae-b1b1-4cc6-934e-ef54794cecb9"
      },
      "execution_count": 51,
      "outputs": [
        {
          "output_type": "stream",
          "name": "stdout",
          "text": [
            "LABELS INFO (y):\n",
            "0       1\n",
            "1       1\n",
            "2       1\n",
            "3       1\n",
            "4       1\n",
            "       ..\n",
            "1995    0\n",
            "1996    0\n",
            "1997    0\n",
            "1998    0\n",
            "1999    0\n",
            "Name: account.type, Length: 2000, dtype: int64\n",
            "<class 'pandas.core.series.Series'>\n",
            "RangeIndex: 2000 entries, 0 to 1999\n",
            "Series name: account.type\n",
            "Non-Null Count  Dtype\n",
            "--------------  -----\n",
            "2000 non-null   int64\n",
            "dtypes: int64(1)\n",
            "memory usage: 15.8 KB\n",
            "None\n"
          ]
        }
      ]
    },
    {
      "cell_type": "code",
      "source": [
        "# Combining features and labels into DataFrames\n",
        "train_df = pd.concat([X_train, y_train], axis=1)\n",
        "val_df = pd.concat([X_val, y_val], axis=1)\n",
        "test_df = pd.concat([X_test, y_test], axis=1)"
      ],
      "metadata": {
        "id": "Z5gis5EtPcjo"
      },
      "execution_count": 53,
      "outputs": []
    },
    {
      "cell_type": "code",
      "source": [
        "print(\"TRAIN SPLIT:\")\n",
        "print(train_df)"
      ],
      "metadata": {
        "colab": {
          "base_uri": "https://localhost:8080/"
        },
        "id": "MhPO_FGmQ3SJ",
        "outputId": "770649e6-1dc0-4426-aabb-2c0842510ec7"
      },
      "execution_count": 56,
      "outputs": [
        {
          "output_type": "stream",
          "name": "stdout",
          "text": [
            "TRAIN SPLIT:\n",
            "                  user_id            status_id screen_name class_type  \\\n",
            "1593             15088390  1080874603608629248    human#10      human   \n",
            "785   1110686081341632512  1150102628056981504      bot#23     others   \n",
            "729   1197716977982177280  1201000163218804736      bot#17       gpt2   \n",
            "403   1197916267975335939  1206504620710879232      bot#12        rnn   \n",
            "890   1110407881030017024  1213429905486073856       bot#9     others   \n",
            "...                   ...                  ...         ...        ...   \n",
            "962   1110407881030017024  1195295412510326784       bot#9     others   \n",
            "1452             18839785  1173916332880007170    human#11      human   \n",
            "719   1218019760669020160  1221160823239987202      bot#13       gpt2   \n",
            "51     979586167405363200  1167283084233863169      bot#11        rnn   \n",
            "311   1110686081341632512  1153364116553097219      bot#23     others   \n",
            "\n",
            "      account.type  \n",
            "1593             0  \n",
            "785              1  \n",
            "729              1  \n",
            "403              1  \n",
            "890              1  \n",
            "...            ...  \n",
            "962              1  \n",
            "1452             0  \n",
            "719              1  \n",
            "51               1  \n",
            "311              1  \n",
            "\n",
            "[1400 rows x 5 columns]\n"
          ]
        }
      ]
    },
    {
      "cell_type": "code",
      "source": [
        "print(\"TEST SPLIT:\")\n",
        "print(train_df)"
      ],
      "metadata": {
        "colab": {
          "base_uri": "https://localhost:8080/"
        },
        "id": "FDy14xyZQ618",
        "outputId": "1bbe8357-31d2-4f34-d648-334324deb567"
      },
      "execution_count": 57,
      "outputs": [
        {
          "output_type": "stream",
          "name": "stdout",
          "text": [
            "TEST SPLIT:\n",
            "                  user_id            status_id screen_name class_type  \\\n",
            "1593             15088390  1080874603608629248    human#10      human   \n",
            "785   1110686081341632512  1150102628056981504      bot#23     others   \n",
            "729   1197716977982177280  1201000163218804736      bot#17       gpt2   \n",
            "403   1197916267975335939  1206504620710879232      bot#12        rnn   \n",
            "890   1110407881030017024  1213429905486073856       bot#9     others   \n",
            "...                   ...                  ...         ...        ...   \n",
            "962   1110407881030017024  1195295412510326784       bot#9     others   \n",
            "1452             18839785  1173916332880007170    human#11      human   \n",
            "719   1218019760669020160  1221160823239987202      bot#13       gpt2   \n",
            "51     979586167405363200  1167283084233863169      bot#11        rnn   \n",
            "311   1110686081341632512  1153364116553097219      bot#23     others   \n",
            "\n",
            "      account.type  \n",
            "1593             0  \n",
            "785              1  \n",
            "729              1  \n",
            "403              1  \n",
            "890              1  \n",
            "...            ...  \n",
            "962              1  \n",
            "1452             0  \n",
            "719              1  \n",
            "51               1  \n",
            "311              1  \n",
            "\n",
            "[1400 rows x 5 columns]\n"
          ]
        }
      ]
    },
    {
      "cell_type": "code",
      "source": [
        "print(\"VALIDATION SPLIT:\")\n",
        "print(val_df)"
      ],
      "metadata": {
        "colab": {
          "base_uri": "https://localhost:8080/"
        },
        "id": "eF5QNx0iRQ-6",
        "outputId": "9697edab-6119-4c76-83b1-10fe158cce67"
      },
      "execution_count": 58,
      "outputs": [
        {
          "output_type": "stream",
          "name": "stdout",
          "text": [
            "VALIDATION SPLIT:\n",
            "                  user_id            status_id screen_name class_type  \\\n",
            "897   1110407881030017024  1175590571194253314       bot#9     others   \n",
            "765   1148250906166726656  1199866315504308224       bot#2       gpt2   \n",
            "521   1174980053668524033  1206879709826617344       bot#4       gpt2   \n",
            "421   1174980053668524033  1228924470611652608       bot#4       gpt2   \n",
            "937    979586167405363200  1182261782322139136      bot#11        rnn   \n",
            "...                   ...                  ...         ...        ...   \n",
            "987   1174980053668524033  1225310825122074624       bot#4       gpt2   \n",
            "1240             15088390  1022500549084602373    human#10      human   \n",
            "502    901463089622781952   941004935193169920      bot#10     others   \n",
            "1803  1033142532136415232  1157009060681736192     human#2      human   \n",
            "395   1110407881030017024  1200474537223000064       bot#9     others   \n",
            "\n",
            "      account.type  \n",
            "897              1  \n",
            "765              1  \n",
            "521              1  \n",
            "421              1  \n",
            "937              1  \n",
            "...            ...  \n",
            "987              1  \n",
            "1240             0  \n",
            "502              1  \n",
            "1803             0  \n",
            "395              1  \n",
            "\n",
            "[300 rows x 5 columns]\n"
          ]
        }
      ]
    },
    {
      "cell_type": "code",
      "source": [
        "# Save to CSV files\n",
        "train_df.to_csv('/content/final_train.csv', index=False)\n",
        "val_df.to_csv('/content/final_validation.csv', index=False)\n",
        "test_df.to_csv('/content/final_test.csv', index=False)"
      ],
      "metadata": {
        "id": "fIV8zZY1ROod"
      },
      "execution_count": 59,
      "outputs": []
    },
    {
      "cell_type": "code",
      "source": [
        "# Downloading the CSV files\n",
        "!zip -r /content/final_data_splits.zip /content/final_train.csv /content/final_validation.csv /content/final_test.csv\n"
      ],
      "metadata": {
        "colab": {
          "base_uri": "https://localhost:8080/"
        },
        "id": "v2e8QoacRgzB",
        "outputId": "913144ad-0886-4cdb-909d-b2228a43a368"
      },
      "execution_count": 60,
      "outputs": [
        {
          "output_type": "stream",
          "name": "stdout",
          "text": [
            "  adding: content/final_train.csv (deflated 73%)\n",
            "  adding: content/final_validation.csv (deflated 70%)\n",
            "  adding: content/final_test.csv (deflated 70%)\n"
          ]
        }
      ]
    },
    {
      "cell_type": "code",
      "source": [
        "from google.colab import files\n",
        "files.download('/content/final_data_splits.zip')"
      ],
      "metadata": {
        "colab": {
          "base_uri": "https://localhost:8080/",
          "height": 17
        },
        "id": "9v-8OFwMRui5",
        "outputId": "8b1832de-72ee-4362-8eac-bb1fee5205cc"
      },
      "execution_count": 61,
      "outputs": [
        {
          "output_type": "display_data",
          "data": {
            "text/plain": [
              "<IPython.core.display.Javascript object>"
            ],
            "application/javascript": [
              "\n",
              "    async function download(id, filename, size) {\n",
              "      if (!google.colab.kernel.accessAllowed) {\n",
              "        return;\n",
              "      }\n",
              "      const div = document.createElement('div');\n",
              "      const label = document.createElement('label');\n",
              "      label.textContent = `Downloading \"${filename}\": `;\n",
              "      div.appendChild(label);\n",
              "      const progress = document.createElement('progress');\n",
              "      progress.max = size;\n",
              "      div.appendChild(progress);\n",
              "      document.body.appendChild(div);\n",
              "\n",
              "      const buffers = [];\n",
              "      let downloaded = 0;\n",
              "\n",
              "      const channel = await google.colab.kernel.comms.open(id);\n",
              "      // Send a message to notify the kernel that we're ready.\n",
              "      channel.send({})\n",
              "\n",
              "      for await (const message of channel.messages) {\n",
              "        // Send a message to notify the kernel that we're ready.\n",
              "        channel.send({})\n",
              "        if (message.buffers) {\n",
              "          for (const buffer of message.buffers) {\n",
              "            buffers.push(buffer);\n",
              "            downloaded += buffer.byteLength;\n",
              "            progress.value = downloaded;\n",
              "          }\n",
              "        }\n",
              "      }\n",
              "      const blob = new Blob(buffers, {type: 'application/binary'});\n",
              "      const a = document.createElement('a');\n",
              "      a.href = window.URL.createObjectURL(blob);\n",
              "      a.download = filename;\n",
              "      div.appendChild(a);\n",
              "      a.click();\n",
              "      div.remove();\n",
              "    }\n",
              "  "
            ]
          },
          "metadata": {}
        },
        {
          "output_type": "display_data",
          "data": {
            "text/plain": [
              "<IPython.core.display.Javascript object>"
            ],
            "application/javascript": [
              "download(\"download_c7d24655-2084-4a47-94fb-346238ace937\", \"final_data_splits.zip\", 28797)"
            ]
          },
          "metadata": {}
        }
      ]
    },
    {
      "cell_type": "code",
      "source": [],
      "metadata": {
        "id": "JLoWaY1cRz1z"
      },
      "execution_count": null,
      "outputs": []
    }
  ]
}